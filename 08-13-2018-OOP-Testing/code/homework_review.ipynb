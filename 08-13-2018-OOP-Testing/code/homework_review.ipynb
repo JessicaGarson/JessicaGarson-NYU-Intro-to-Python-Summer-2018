{
 "cells": [
  {
   "cell_type": "markdown",
   "metadata": {},
   "source": [
    "# Concepts"
   ]
  },
  {
   "cell_type": "code",
   "execution_count": 4,
   "metadata": {},
   "outputs": [],
   "source": [
    "concepts = {'String': 'A series of characters.',  \n",
    "    'Boolean Expression': 'An expression that evaluates to True or False.',  \n",
    "    'Value': 'An item associated with a key in a dictionary.',  \n",
    "    'Key': 'The first item in a key-value pair in a dictionary.',\n",
    "    'Loop': 'Work through a collection of items, one at a time.',  \n",
    "    'List': 'A collection of items in a particular order.',  \n",
    "    'Float': 'A numerical value with a decimal component.'}"
   ]
  },
  {
   "cell_type": "code",
   "execution_count": 5,
   "metadata": {},
   "outputs": [
    {
     "name": "stdout",
     "output_type": "stream",
     "text": [
      "String: A series of characters.\n",
      "Boolean Expression: An expression that evaluates to True or False.\n",
      "Value: An item associated with a key in a dictionary.\n",
      "Key: The first item in a key-value pair in a dictionary.\n",
      "Loop: Work through a collection of items, one at a time.\n",
      "List: A collection of items in a particular order.\n",
      "Float: A numerical value with a decimal component.\n"
     ]
    }
   ],
   "source": [
    "for key, value in concepts.items():\n",
    "    print('{}: {}'.format(key, value))"
   ]
  },
  {
   "cell_type": "markdown",
   "metadata": {},
   "source": [
    "# Movies"
   ]
  },
  {
   "cell_type": "code",
   "execution_count": 6,
   "metadata": {},
   "outputs": [],
   "source": [
    "alexis = {'Willy Wonka','Star Wars','Boogie Nights', 'There Will Be Blood', 'Y Tu Mama Tambien', 'Coco', 'Good Burger', 'Dirty Dancing'}\n",
    "jess = {'Green Room', 'Clueless', 'Star Wars', 'Star Wars'}"
   ]
  },
  {
   "cell_type": "markdown",
   "metadata": {},
   "source": [
    "## Movies we both like:"
   ]
  },
  {
   "cell_type": "code",
   "execution_count": 8,
   "metadata": {},
   "outputs": [
    {
     "name": "stdout",
     "output_type": "stream",
     "text": [
      "{'Star Wars'}\n"
     ]
    }
   ],
   "source": [
    "print(alexis.intersection(jess))"
   ]
  },
  {
   "cell_type": "markdown",
   "metadata": {},
   "source": [
    "## What movies are your favorite but aren't the other persons?"
   ]
  },
  {
   "cell_type": "code",
   "execution_count": 9,
   "metadata": {},
   "outputs": [
    {
     "name": "stdout",
     "output_type": "stream",
     "text": [
      "{'Willy Wonka', 'Boogie Nights', 'Dirty Dancing', 'Coco', 'Y Tu Mama Tambien', 'There Will Be Blood', 'Good Burger'}\n"
     ]
    }
   ],
   "source": [
    "print(alexis.difference(jess))"
   ]
  },
  {
   "cell_type": "markdown",
   "metadata": {},
   "source": [
    "# Daily Tasks"
   ]
  },
  {
   "cell_type": "code",
   "execution_count": 10,
   "metadata": {},
   "outputs": [],
   "source": [
    "daily = ('wake up', 'go to work', 'drink coffe', 'leave work', 'excerise', 'go home')"
   ]
  },
  {
   "cell_type": "code",
   "execution_count": 13,
   "metadata": {},
   "outputs": [
    {
     "name": "stdout",
     "output_type": "stream",
     "text": [
      "My day usually looks something like this:\n",
      "\t0: wake up\n",
      "\t1: go to work\n",
      "\t2: drink coffe\n",
      "\t3: leave work\n",
      "\t4: excerise\n",
      "\t5: go home\n"
     ]
    }
   ],
   "source": [
    "print('My day usually looks something like this:')\n",
    "for index, task in enumerate(daily[0:]):\n",
    "        print(\"\\t{}: {}\".format(index, task))\n",
    "        \n",
    "print()"
   ]
  },
  {
   "cell_type": "code",
   "execution_count": null,
   "metadata": {},
   "outputs": [],
   "source": []
  }
 ],
 "metadata": {
  "kernelspec": {
   "display_name": "Python 3",
   "language": "python",
   "name": "python3"
  },
  "language_info": {
   "codemirror_mode": {
    "name": "ipython",
    "version": 3
   },
   "file_extension": ".py",
   "mimetype": "text/x-python",
   "name": "python",
   "nbconvert_exporter": "python",
   "pygments_lexer": "ipython3",
   "version": "3.6.4"
  }
 },
 "nbformat": 4,
 "nbformat_minor": 2
}
